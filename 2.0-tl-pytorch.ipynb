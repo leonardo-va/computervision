{
 "cells": [
  {
   "attachments": {},
   "cell_type": "markdown",
   "metadata": {},
   "source": [
    "# Exercise 2"
   ]
  },
  {
   "attachments": {},
   "cell_type": "markdown",
   "metadata": {},
   "source": [
    "**Please Note**: We updated the requirements.txt\n",
    "\n",
    "Please install the new requirements before editing this exercise."
   ]
  },
  {
   "attachments": {},
   "cell_type": "markdown",
   "metadata": {},
   "source": [
    "## Import packages"
   ]
  },
  {
   "cell_type": "code",
   "execution_count": 1,
   "metadata": {},
   "outputs": [],
   "source": [
    "import os\n",
    "\n",
    "from vll.utils.download import download_mnist\n",
    "import numpy as np\n",
    "import matplotlib.pyplot as plt\n",
    "\n",
    "import skimage\n",
    "import skimage.io\n",
    "\n",
    "import torch\n",
    "import torch.nn.functional as F\n",
    "from torchvision import transforms\n",
    "\n",
    "from models.mnist.simple_cnn import Net"
   ]
  },
  {
   "attachments": {},
   "cell_type": "markdown",
   "metadata": {},
   "source": [
    "## Task 1\n",
    "(2 points)\n",
    "\n",
    "In this task, you will learn some basic tensor operations using the PyTorch library.\n",
    "\n",
    "Reference for torch: https://pytorch.org/docs/stable/torch.html"
   ]
  },
  {
   "cell_type": "code",
   "execution_count": 3,
   "metadata": {},
   "outputs": [
    {
     "name": "stdout",
     "output_type": "stream",
     "text": [
      "[ 0  1  2  3  4  5  6  7  8  9 10 11 12 13 14 15 16 17 18 19]\n",
      "tensor([ 0,  1,  2,  3,  4,  5,  6,  7,  8,  9, 10, 11, 12, 13, 14, 15, 16, 17,\n",
      "        18, 19], dtype=torch.int32)\n",
      "tensor([ 0.0000,  0.3624,  0.3657,  0.8370,  1.2197,  3.4984,  1.3833,  5.2872,\n",
      "         6.3184,  7.7666,  9.8781,  5.2471,  4.4007,  0.2501,  2.9223,  4.8087,\n",
      "         7.5568, 11.3352,  5.3145, 17.6982])\n",
      "tensor([-1.0000, -0.6376, -0.6343, -0.1630,  0.2197,  2.4984,  0.3833,  4.2872,\n",
      "         5.3184,  6.7666,  8.8781,  4.2471,  3.4007, -0.7499,  1.9223,  3.8087,\n",
      "         6.5568, 10.3352,  4.3145, 16.6982])\n",
      "tensor(0.2197)\n",
      "tensor([-0., -0., -0., -0., 0., 0., 0., 0., 0., 0., 0., 0., 0., -0., 0., 0., 0., 0., 0., 0.])\n"
     ]
    }
   ],
   "source": [
    "# Create a numpy array that looks like this: [0, 1, 2, ..., 19]\n",
    "arr = np.arange(20)\n",
    "print(arr)\n",
    "# Convert the numpy array to a torch tensor\n",
    "tensor = torch.tensor(arr, dtype = torch.int)\n",
    "print(tensor)\n",
    "\n",
    "# Create a tensor that contains random numbers.\n",
    "# It should have the same size like the numpy array.\n",
    "# Multiply it with the previous tensor.\n",
    "rand_tensor = torch.rand(arr.shape)\n",
    "tensor = tensor * rand_tensor\n",
    "print(tensor)\n",
    "\n",
    "# Create a tensor that contains only 1s.\n",
    "# It should have the same size like the numpy array.\n",
    "# Substract it from the previous tensor.\n",
    "tensor = tensor - torch.ones(arr.shape)\n",
    "print(tensor)\n",
    "\n",
    "# Get the 5th element using a index.\n",
    "element = tensor[4]\n",
    "print(element)\n",
    "\n",
    "# Create a tensor that contains only 0s.\n",
    "# It should have the same size like the numpy array.\n",
    "# Multiply it with the previous tensor without any assignment (in place).\n",
    "tensor *= torch.zeros(arr.shape)\n",
    "print(tensor)\n"
   ]
  },
  {
   "cell_type": "code",
   "execution_count": 4,
   "metadata": {},
   "outputs": [
    {
     "name": "stdout",
     "output_type": "stream",
     "text": [
      "torch.Size([512, 512, 3])\n",
      "786432\n",
      "torch.Size([1, 786432])\n",
      "torch.Size([786432])\n",
      "torch.Size([512, 512, 3])\n",
      "tensor(91404845)\n",
      "tensor(116.2273)\n",
      "tensor(255, dtype=torch.uint8)\n"
     ]
    }
   ],
   "source": [
    "# Load the image from the last exercise as RGB image.\n",
    "image = skimage.io.imread(\"./data/pepo.jpg\")\n",
    "\n",
    "# Convert the image to a tensor\n",
    "image = torch.tensor(image)\n",
    "\n",
    "# Print its shape\n",
    "print(image.shape)\n",
    "\n",
    "# Flatten the image\n",
    "image = image.flatten()\n",
    "print(len(image))\n",
    "\n",
    "# Add another dimension resulting in a 1x78643 tensor\n",
    "image = image.unsqueeze(0)\n",
    "print(image.shape)\n",
    "\n",
    "# Revert the last action\n",
    "image = image.squeeze(0)\n",
    "print(image.shape)\n",
    "\n",
    "# Reshape the tensor, so that it has the original 2D dimensions\n",
    "image = image.reshape(512,512,3)\n",
    "print(image.shape)\n",
    "\n",
    "# Calculate the sum, mean and max of the tensor\n",
    "print(torch.sum(image))\n",
    "print(torch.mean(image.float()))\n",
    "print(torch.max(image))"
   ]
  },
  {
   "attachments": {},
   "cell_type": "markdown",
   "metadata": {},
   "source": [
    "## Task 2\n",
    "(2 points)\n",
    "\n",
    "Use Autograd to perform operations on a tensor and output then gradients."
   ]
  },
  {
   "cell_type": "code",
   "execution_count": 5,
   "metadata": {},
   "outputs": [
    {
     "name": "stdout",
     "output_type": "stream",
     "text": [
      "tensor([[-1.5795,  0.8794],\n",
      "        [-1.3247,  0.5349]], requires_grad=True)\n",
      "tensor([[0.4205, 2.8794],\n",
      "        [0.6753, 2.5349]], grad_fn=<AddBackward0>)\n",
      "tensor([[0.1769, 8.2908],\n",
      "        [0.4561, 6.4258]], grad_fn=<MulBackward0>)\n",
      "tensor(3.8374, grad_fn=<MeanBackward0>)\n",
      "tensor([[0.2103, 1.4397],\n",
      "        [0.3377, 1.2675]])\n",
      "False\n"
     ]
    }
   ],
   "source": [
    "# Create a random 2x2 tensor which requires gradients\n",
    "x = torch.randn((2,2), requires_grad = True)\n",
    "print(x)\n",
    "\n",
    "# Create another tensor by adding 2.0\n",
    "y = x + 2.0\n",
    "print(y)\n",
    "\n",
    "# Create a third tensor z = y^2\n",
    "z = y * y\n",
    "print(z)\n",
    "\n",
    "# Compute out as the mean of values in z\n",
    "out = torch.mean(z)\n",
    "print(out)\n",
    "\n",
    "# Perform back propagation on out\n",
    "out.backward()\n",
    "\n",
    "# Print the gradients dout/dx\n",
    "print(x.grad)\n",
    "\n",
    "# Create a copy of y whithout gradients\n",
    "y2 = y.clone().detach()\n",
    "print(y2.requires_grad)\n",
    "\n",
    "# Perform the mean operation on z\n",
    "# with gradients globally disabled\n",
    "with torch.no_grad():\n",
    "    torch.mean(z)"
   ]
  },
  {
   "attachments": {},
   "cell_type": "markdown",
   "metadata": {},
   "source": [
    "## Task 3\n",
    "(3 points)\n",
    "\n",
    "Implement a Dataset class for MNIST."
   ]
  },
  {
   "cell_type": "code",
   "execution_count": 7,
   "metadata": {},
   "outputs": [
    {
     "name": "stdout",
     "output_type": "stream",
     "text": [
      "Downloading mnist.tar.gz\n",
      "Extract mnist.tar.gz\n",
      "Done!\n"
     ]
    }
   ],
   "source": [
    "# We first download the MNIST dataset\n",
    "download_mnist()"
   ]
  },
  {
   "cell_type": "code",
   "execution_count": 6,
   "metadata": {},
   "outputs": [],
   "source": [
    "class MNIST:\n",
    "    \"\"\"\n",
    "    Dataset class for MNIST\n",
    "    \"\"\"\n",
    "\n",
    "    def __init__(self, root, transform=None):\n",
    "        \"\"\"\n",
    "        root -- path to either \"training\" or \"testing\"\n",
    "        \n",
    "        transform -- transform (from torchvision.transforms)\n",
    "                     to be applied to the data\n",
    "        \"\"\"\n",
    "        # save transforms\n",
    "        self.transform = transform\n",
    "        \n",
    "        # TODO: create a list of all subdirectories (named like the classes) \n",
    "        #       within the dataset root\n",
    "        subdirs = os.listdir(root)\n",
    "        \n",
    "        # TODO: create a list of paths to all images\n",
    "        #       with the ground truth label\n",
    "        self.labeledData = []\n",
    "        for label in subdirs:\n",
    "            for impath in os.listdir(root + \"\\\\\" + label):\n",
    "                self.labeledData.append((root + \"\\\\\" + label + \"\\\\\" + impath,label))\n",
    "    def __len__(self):\n",
    "        \"\"\"\n",
    "        Returns the lenght of the dataset (number of images)\n",
    "        \"\"\"\n",
    "        # TODO: return the length (number of images) of the dataset\n",
    "        return len(self.labeledData)\n",
    "\n",
    "    def __getitem__(self, index):\n",
    "        \"\"\"\n",
    "        Loads and returns one image as floating point numpy array\n",
    "        \n",
    "        index -- image index in [0, self.__len__() - 1]\n",
    "        \"\"\"\n",
    "        # TODO: load the ith image as an numpy array (dtype=float32)\n",
    "        impath, label = self.labeledData[index]\n",
    "        im = skimage.io.imread(impath).astype(np.float32)\n",
    "        \n",
    "        # TODO: apply transforms to the image (if there are any)\n",
    "        if self.transform is not None:\n",
    "            im = np.array(self.transform(im))\n",
    "        \n",
    "        # TODO: return a tuple (transformed image, ground truth)\n",
    "        return (im, label)"
   ]
  },
  {
   "attachments": {},
   "cell_type": "markdown",
   "metadata": {},
   "source": [
    "## Task 4\n",
    "(3 points)\n",
    "\n",
    "You can now load a pretrained neural network model we provide.\n",
    "Your last task is to run the model on the MNIST test dataset, plot some example images with the predicted labels and compute the prediction accuracy."
   ]
  },
  {
   "cell_type": "code",
   "execution_count": 24,
   "metadata": {},
   "outputs": [
    {
     "ename": "TypeError",
     "evalue": "'AxesSubplot' object is not subscriptable",
     "output_type": "error",
     "traceback": [
      "\u001b[1;31m---------------------------------------------------------------------------\u001b[0m",
      "\u001b[1;31mTypeError\u001b[0m                                 Traceback (most recent call last)",
      "Cell \u001b[1;32mIn [24], line 68\u001b[0m\n\u001b[0;32m     65\u001b[0m model\u001b[38;5;241m.\u001b[39mload_state_dict(torch\u001b[38;5;241m.\u001b[39mload(\u001b[38;5;124m'\u001b[39m\u001b[38;5;124mmodels/mnist/simple_cnn.pt\u001b[39m\u001b[38;5;124m'\u001b[39m))\n\u001b[0;32m     67\u001b[0m \u001b[38;5;66;03m# validate the model\u001b[39;00m\n\u001b[1;32m---> 68\u001b[0m validate(model, data_loader)\n",
      "Cell \u001b[1;32mIn [24], line 41\u001b[0m, in \u001b[0;36mvalidate\u001b[1;34m(model, data_loader)\u001b[0m\n\u001b[0;32m     39\u001b[0m         npImage \u001b[38;5;241m=\u001b[39m redImg\n\u001b[0;32m     40\u001b[0m     \u001b[38;5;66;03m# TODO: disable axis and show image\u001b[39;00m\n\u001b[1;32m---> 41\u001b[0m     \u001b[43max1\u001b[49m\u001b[43m[\u001b[49m\u001b[38;5;241;43m1\u001b[39;49m\u001b[43m]\u001b[49m[i] \u001b[38;5;241m=\u001b[39m plt\u001b[38;5;241m.\u001b[39mimshow(npImage)\n\u001b[0;32m     43\u001b[0m     \u001b[38;5;66;03m# TODO: show the predicted class next to each image\u001b[39;00m\n\u001b[0;32m     46\u001b[0m \u001b[38;5;28;01melif\u001b[39;00m i \u001b[38;5;241m==\u001b[39m \u001b[38;5;241m100\u001b[39m:\n",
      "\u001b[1;31mTypeError\u001b[0m: 'AxesSubplot' object is not subscriptable"
     ]
    },
    {
     "data": {
      "image/png": "[encoded data removed]",
      "text/plain": [
       "<Figure size 640x480 with 1 Axes>"
      ]
     },
     "metadata": {},
     "output_type": "display_data"
    }
   ],
   "source": [
    "def validate(model, data_loader):\n",
    "    # TODO: Create a 10x10 grid of subplots\n",
    "    ax1 = plt.subplot(10,10,1)\n",
    "    model.eval()\n",
    "    correct = 0 # count for correct predictions\n",
    "    \n",
    "    with torch.no_grad():\n",
    "        for i, item in enumerate(data_loader):\n",
    "            # TODO: unpack item into image and ground truth\n",
    "            #       and run network on them\n",
    "            target_image = item[0]\n",
    "            target_label = item[1][0]\n",
    "            inference_result = model.forward(target_image)\n",
    "            \n",
    "            # TODO: get class with highest probability\n",
    "            infered_label = torch.argmax(inference_result)\n",
    "    \n",
    "            # TODO: check if prediction is correct\n",
    "            #       and add it to correct count\n",
    "            correct_flag = False\n",
    "            if str(infered_label.item()) == target_label:\n",
    "                correct += 1\n",
    "                correct_flag = True\n",
    "                \n",
    "            # plot the first 100 images\n",
    "            if i < 100:\n",
    "                # TODO: compute position of ith image in the grid\n",
    "                row = np.ceil(i/10)\n",
    "                col = i % 10\n",
    "                \n",
    "                # TODO: convert image tensor to numpy array\n",
    "                #       and normalize to [0, 1]\n",
    "                npImage = np.array(target_image.reshape(28,28))/torch.max(target_image).item()\n",
    "                \n",
    "                # TODO: make wrongly predicted images red\n",
    "                if correct_flag == False:\n",
    "                    redImg = np.zeros((npImage.shape[0], np.Image.shape[1], 3))\n",
    "                    redImg[:,:,0] = npImage\n",
    "                    npImage = redImg\n",
    "                # TODO: disable axis and show image\n",
    "                ax1[1][i] = plt.imshow(npImage)\n",
    "                \n",
    "                # TODO: show the predicted class next to each image\n",
    "                \n",
    "            \n",
    "            elif i == 100:\n",
    "                plt.show()\n",
    "    \n",
    "    # TODO: compute and print the prediction accuracy in percent\n",
    "    \n",
    "\n",
    "# create a DataLoader using the implemented MNIST dataset class\n",
    "data_loader = torch.utils.data.DataLoader(\n",
    "    MNIST('data/mnist/testing',\n",
    "    transform=transforms.Compose([\n",
    "        transforms.ToTensor(),\n",
    "        transforms.Normalize((0.1307,), (0.3081,))\n",
    "    ])),\n",
    "    batch_size=1, shuffle=True)\n",
    "\n",
    "# create the neural network\n",
    "model = Net()\n",
    "\n",
    "# load the statedict from 'models/mnist/simple_cnn.pt'\n",
    "model.load_state_dict(torch.load('models/mnist/simple_cnn.pt'))\n",
    "\n",
    "# validate the model\n",
    "validate(model, data_loader)"
   ]
  }
 ],
 "metadata": {
  "kernelspec": {
   "display_name": "Python 3",
   "language": "python",
   "name": "python3"
  },
  "language_info": {
   "codemirror_mode": {
    "name": "ipython",
    "version": 3
   },
   "file_extension": ".py",
   "mimetype": "text/x-python",
   "name": "python",
   "nbconvert_exporter": "python",
   "pygments_lexer": "ipython3",
   "version": "3.10.14"
  }
 },
 "nbformat": 4,
 "nbformat_minor": 4
}
